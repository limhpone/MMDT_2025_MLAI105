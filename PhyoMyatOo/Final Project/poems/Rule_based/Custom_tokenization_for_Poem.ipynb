{
 "cells": [
  {
   "cell_type": "code",
   "execution_count": 3,
   "id": "2a3e60ce",
   "metadata": {},
   "outputs": [],
   "source": [
    "import re\n",
    "\n",
    "\n",
    "def custom_syllable_splitter(text: str) -> list:\n",
    "    \"\"\"\n",
    "    Performs a deep syllable split by breaking down all consonant stacks.\n",
    "    This function uses a two-step process to achieve the required logic for\n",
    "    cases like 'နက္ခ တ္တ' and 'ဥက္ကဋ္ဌ'.\n",
    "    \"\"\"\n",
    "\n",
    "    \n",
    "    # --- Step 1: Pre-processing to split stacks using a loop ---\n",
    "    # This loop is the only reliable way to handle chained stacks.\n",
    "    stacked_consonant_pattern = r'([က-အ])(်?္)([က-အ])'\n",
    "    processed_text = text\n",
    "    while re.search(stacked_consonant_pattern, processed_text):\n",
    "        processed_text = re.sub(stacked_consonant_pattern, r'\\1်'  + r'\\3', processed_text)\n",
    "    processed_text = re.sub(r\"(([A-Za-z0-9]+)|[က-အ|ဥ|ဦ](င်္|[က-အ|ဥ][ှ]*[့း]*[်]|္[က-အ]|[ါ-ှႏꩻ][ꩻ]*){0,}|.)\",r\"\\1 \", processed_text)\n",
    "    print()\n",
    "   #Step 2: Tokenization of the processed parts ---\n",
    "   # The string is now clean of stacks, so we can tokenize it reliably.\n",
    "    final_list = processed_text.split(\" \")\n",
    "    \n",
    "    # Filter out empty strings caused by trailing spaces\n",
    "    final_list = [word for word in final_list if word.strip()]\n",
    "        \n",
    "    return final_list"
   ]
  },
  {
   "cell_type": "code",
   "execution_count": 4,
   "id": "7e6df016",
   "metadata": {},
   "outputs": [
    {
     "name": "stdout",
     "output_type": "stream",
     "text": [
      "\n",
      "Result:   ['တောင်', 'ပံ', 'ကွန့်', 'မြူး', '၊', 'ပိုး', 'စုန်း', 'ကြူး', '၊', 'အ', 'ထူး', 'အ', 'ဆန်း', 'ပင်', '။', '\\nအ', 'ရောင်', 'တွဲ့', 'တွဲ့', '၊', 'ထွန်း', 'လင်း', 'ခဲ့', '၊', 'မီး', 'ရဲ့', 'ပ', 'မာ', 'သွင်', '။', '\\nပျင်း', 'ရိ', 'လျက်', 'သာ', '၊', 'အိပ်', 'နေ', 'ပါ', '၊', 'ရောင်', 'ဝါ', 'မ', 'ပေါ်', 'လွင်', '။', '\\nထို', 'နည်း', 'တူ', 'စွာ', '၊', 'လူ', 'တို့', 'မှာ', '၊', 'ပ', 'မာ', 'နှိုင်း', 'ဆင်', 'ခြင်', '။', '\\nကိုယ်', 'နှင့်', 'ဆိုင်', 'ဘိ', '၊', 'အ', 'လုပ်', 'ရှိ', '၊', 'လျှံ', 'ငြိ', 'ဂုဏ်', 'ရောင်', 'ထင်', '။', '\\nကမ်', 'ဘာ', 'တိုက်', 'ဘောင်', '၊', 'အ', 'လုပ်', 'ရောင်', '၊', 'ထွန်း', 'ပြောင်', 'အ', 'မြဲ', 'ပင်', '။', '\\nပျင်း', 'ပျင်း', 'ရိ', 'ရိ', '၊', 'အိပ်', 'နေ', 'ဘိ', '၊', 'မ', 'ရှိ', 'အ', 'လုပ်', 'ခွင်', '။', '\\nမှေး', 'တေး', 'မှိန်', 'တိမ်', '၊', 'သေး', 'သိမ်', 'သိမ်', '၊', 'အ', 'ရှိန်', 'ကင်း', 'လိမ့်', 'ပင်', '။', '\\nလူ', 'ဖြစ်', 'ပါ', 'ခဲ့', '၊', 'အ', 'ရှိန်', 'မဲ့', '၊', 'တ', 'ကယ့်', 'နွား', 'အ', 'သွင်', '\\nအ', 'ပျင်း', 'ရော', 'ဂါ', '၊', 'စွဲ', 'ကပ်', 'လာ', '၊', 'မြန်', 'စွာ', 'ကု', 'ဖို့', 'ပြင်', '\\nမ', 'ကု', 'စား', 'ဘဲ', 'အ', 'ပျင်း', 'စွဲ', '၊', 'င', 'မွဲ', 'င', 'နုံ', 'ပင်', '။']\n"
     ]
    }
   ],
   "source": [
    "text_to_test = '''တောင်ပံကွန့်မြူး၊ ပိုးစုန်းကြူး၊ အထူးအဆန်းပင်။\n",
    "အရောင်တွဲ့တွဲ့၊ ထွန်းလင်းခဲ့၊ မီးရဲ့ပမာသွင်။\n",
    "ပျင်းရိလျက်သာ၊ အိပ်နေပါ၊ ရောင်ဝါမပေါ်လွင်။\n",
    "ထိုနည်းတူစွာ၊ လူတို့မှာ၊ ပမာနှိုင်းဆင်ခြင်။\n",
    "ကိုယ်နှင့်ဆိုင်ဘိ၊ အလုပ်ရှိ၊ လျှံငြိဂုဏ်ရောင်ထင်။\n",
    "ကမ္ဘာတိုက်ဘောင်၊ အလုပ်ရောင်၊ ထွန်းပြောင်အမြဲပင်။\n",
    "ပျင်းပျင်းရိရိ၊ အိပ်နေဘိ၊ မရှိအလုပ်ခွင်။\n",
    "မှေးတေးမှိန်တိမ်၊ သေးသိမ်သိမ်၊ အရှိန်ကင်းလိမ့်ပင်။\n",
    "လူဖြစ်ပါခဲ့၊ အရှိန်မဲ့၊ တကယ့်နွားအသွင်\n",
    "အပျင်းရောဂါ၊ စွဲကပ်လာ၊ မြန်စွာကုဖို့ပြင်\n",
    "မကုစားဘဲ အပျင်းစွဲ၊ ငမွဲငနုံပင်။ '''\n",
    "result = custom_syllable_splitter(text_to_test)\n",
    "\n",
    "print(f\"Result:   {result}\")"
   ]
  },
  {
   "cell_type": "code",
   "execution_count": null,
   "id": "d52db445",
   "metadata": {},
   "outputs": [],
   "source": []
  }
 ],
 "metadata": {
  "kernelspec": {
   "display_name": "poems-AgVwVVEp",
   "language": "python",
   "name": "python3"
  },
  "language_info": {
   "codemirror_mode": {
    "name": "ipython",
    "version": 3
   },
   "file_extension": ".py",
   "mimetype": "text/x-python",
   "name": "python",
   "nbconvert_exporter": "python",
   "pygments_lexer": "ipython3",
   "version": "3.11.11"
  }
 },
 "nbformat": 4,
 "nbformat_minor": 5
}
