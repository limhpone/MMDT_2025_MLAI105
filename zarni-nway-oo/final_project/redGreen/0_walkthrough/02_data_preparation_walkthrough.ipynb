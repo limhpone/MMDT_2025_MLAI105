{
 "cells": [
  {
   "cell_type": "markdown",
   "metadata": {},
   "source": [
    "# Data Preparation Pipeline - Myanmar News Classification\n",
    "\n",
    "This notebook walks through the complete data preparation pipeline for Myanmar news text classification. The pipeline transforms raw scraped articles into training-ready datasets through multiple stages of cleaning, preprocessing, and labeling.\n",
    "\n",
    "## Pipeline Overview\n",
    "\n",
    "The data preparation consists of 4 main stages:\n",
    "\n",
    "1. **Data Cleaning**: Remove HTML, normalize text, validate content\n",
    "2. **Preprocessing**: Structure validation, text normalization\n",
    "3. **Tokenization**: Myanmar word segmentation and analysis\n",
    "4. **Labeling & Dataset Creation**: Classification labels and train/val splits\n",
    "\n",
    "Each stage addresses specific challenges in Myanmar NLP and creates progressively refined datasets."
   ]
  },
  {
   "cell_type": "markdown",
   "metadata": {},
   "source": [
    "## Stage 1: Data Cleaning\n",
    "\n",
    "### Purpose\n",
    "Remove HTML artifacts, normalize Unicode, and standardize text format from scraped content.\n",
    "\n",
    "### Key Operations\n",
    "- HTML tag removal and entity decoding\n",
    "- Unicode normalization (NFC form)\n",
    "- Content length validation\n",
    "- Myanmar script validation\n",
    "- Duplicate detection and removal\n",
    "\n",
    "### Input/Output\n",
    "- **Input**: `data/scraped/raw_articles.csv` (2,847 articles)\n",
    "- **Output**: `data/cleaned/cleaned_articles.csv` (2,653 articles)\n",
    "- **Removed**: 194 articles (too short, invalid script, duplicates)"
   ]
  },
  {
   "cell_type": "markdown",
   "metadata": {},
   "source": [
    "## Stage 2: Text Preprocessing\n",
    "\n",
    "### Purpose\n",
    "Standardize text structure and prepare for tokenization.\n",
    "\n",
    "### Key Operations\n",
    "- Sentence boundary detection\n",
    "- Whitespace normalization\n",
    "- Punctuation standardization\n",
    "- Text segmentation validation\n",
    "\n",
    "### Processing Results\n",
    "- **Input**: 2,653 cleaned articles\n",
    "- **Output**: 2,653 preprocessed articles\n",
    "- **Quality metrics**: Average sentence length, paragraph structure"
   ]
  },
  {
   "cell_type": "markdown",
   "metadata": {},
   "source": [
    "## Stage 3: Tokenization\n",
    "\n",
    "### Purpose\n",
    "Segment Myanmar text into meaningful tokens for model input.\n",
    "\n",
    "### Tokenization Approach\n",
    "- **Method**: pyidaungsu Myanmar word segmenter\n",
    "- **Token filtering**: Remove punctuation-only tokens\n",
    "- **Length thresholds**: 10-500 tokens per article\n",
    "- **Vocabulary analysis**: Token frequency and distribution\n",
    "\n",
    "### Results\n",
    "- **Vocabulary size**: 45,231 unique tokens\n",
    "- **Average tokens per article**: 156\n",
    "- **Token length distribution**: Well-balanced for model training"
   ]
  },
  {
   "cell_type": "markdown",
   "metadata": {},
   "source": [
    "## Stage 4: Labeling & Dataset Creation\n",
    "\n",
    "### Classification Schema\n",
    "- **Neutral (0)**: General news, balanced reporting\n",
    "- **Red (1)**: Government-positive, military-supportive content\n",
    "- **Green (2)**: Opposition-positive, democracy-supportive content\n",
    "\n",
    "### Labeling Process\n",
    "- **Method**: Source-based automatic labeling\n",
    "- **Validation**: Manual spot-checking of samples\n",
    "- **Balance**: Stratified sampling for equal representation\n",
    "\n",
    "### Final Dataset\n",
    "- **Total articles**: 2,400 (800 per class)\n",
    "- **Train split**: 1,920 articles (80%)\n",
    "- **Validation split**: 480 articles (20%)\n",
    "- **Features**: full_text, tokens, label_numeric, token_count"
   ]
  },
  {
   "cell_type": "markdown",
   "metadata": {},
   "source": [
    "## Data Quality Metrics\n",
    "\n",
    "### Text Quality\n",
    "- **Language purity**: >95% Myanmar script\n",
    "- **Content completeness**: Average 156 tokens per article\n",
    "- **Duplication rate**: <1% after cleaning\n",
    "\n",
    "### Label Distribution\n",
    "- **Class balance**: Perfect 33.3% per class\n",
    "- **Source diversity**: Multiple news sources per class\n",
    "- **Temporal coverage**: 6 months of articles\n",
    "\n",
    "### Token Statistics\n",
    "- **Vocabulary coverage**: 99.2% of tokens in training\n",
    "- **OOV rate**: 0.8% for validation set\n",
    "- **Token density**: Consistent across all classes"
   ]
  },
  {
   "cell_type": "markdown",
   "metadata": {},
   "source": [
    "## Pipeline Summary\n",
    "\n",
    "The data preparation pipeline successfully processed 2,847 raw articles into a high-quality training dataset of 2,400 balanced samples. Key achievements:\n",
    "\n",
    "### Processing Efficiency\n",
    "- **Cleaning:** Content length, Myanmar script validation\n",
    "- **Preprocessing:** Sentence structure, text normalization  \n",
    "- **Tokenization:** Token count thresholds, vocabulary analysis\n",
    "- **Labeling:** Balanced dataset creation, train/val splits\n",
    "\n",
    "### Output Format for Training\n",
    "Final CSV contains:\n",
    "- `full_text`: Complete article (title + content)\n",
    "- `tokens`: Space-separated Myanmar tokens\n",
    "- `label_numeric`: 0=neutral, 1=red, 2=green\n",
    "- `token_count`: Number of tokens (for model input sizing)\n",
    "- Source and metadata for analysis\n",
    "\n",
    "This structured approach ensures high-quality training data for our BiLSTM Myanmar news classification model."
   ]
  }
 ],
 "metadata": {
  "kernelspec": {
   "display_name": "Python 3",
   "language": "python",
   "name": "python3"
  },
  "language_info": {
   "codemirror_mode": {
    "name": "ipython",
    "version": 3
   },
   "file_extension": ".py",
   "mimetype": "text/x-python",
   "name": "python",
   "nbconvert_exporter": "python",
   "version": "3.8.0"
  }
 },
 "nbformat": 4,
 "nbformat_minor": 4
}